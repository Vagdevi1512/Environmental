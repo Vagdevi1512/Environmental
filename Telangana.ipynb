{
 "cells": [
  {
   "cell_type": "code",
   "execution_count": null,
   "metadata": {},
   "outputs": [],
   "source": [
    "#import standard data sci libs\n",
    "import pandas as pd\n",
    "import numpy as np\n",
    "import seaborn as sns\n",
    "import matplotlib.pyplot as plt\n",
    "\n",
    "# ! pip install chart_studio\n",
    "import chart_studio.plotly as py\n",
    "import plotly.graph_objs as go\n",
    "from plotly.offline import iplot, init_notebook_mode\n",
    "import cufflinks\n",
    "cufflinks.go_offline()\n",
    "cufflinks.set_config_file(world_readable=True, theme='pearl')"
   ]
  },
  {
   "cell_type": "code",
   "execution_count": null,
   "metadata": {},
   "outputs": [],
   "source": [
    "df = pd.read_csv('Telangana.csv')"
   ]
  },
  {
   "cell_type": "code",
   "execution_count": null,
   "metadata": {},
   "outputs": [],
   "source": [
    "df.columns"
   ]
  },
  {
   "cell_type": "code",
   "execution_count": null,
   "metadata": {},
   "outputs": [],
   "source": [
    "df.info()"
   ]
  },
  {
   "cell_type": "code",
   "execution_count": null,
   "metadata": {},
   "outputs": [],
   "source": [
    "df.isnull().sum()"
   ]
  },
  {
   "cell_type": "code",
   "execution_count": null,
   "metadata": {},
   "outputs": [],
   "source": [
    "df.describe()"
   ]
  },
  {
   "cell_type": "code",
   "execution_count": null,
   "metadata": {},
   "outputs": [],
   "source": [
    "print(df.columns.tolist())\n",
    "df.columns = df.columns.str.strip()\n",
    "df.columns = df.columns.str.replace(r'\\s+', ' ', regex=True).str.strip()\n",
    "df.columns = df.columns.str.lower().str.replace(' ', '_')\n",
    "print(df.columns)\n",
    "\n",
    "\n",
    "# The format \"%d-%m-%Y %H:%M\" specifies: Day-Month-Year Hour:Minute\n",
    "# df['From Date'] = pd.to_datetime(df['From Date'], format='%d-%m-%Y %H:%M')\n",
    "df.head()"
   ]
  },
  {
   "cell_type": "code",
   "execution_count": null,
   "metadata": {},
   "outputs": [],
   "source": [
    "# Missing values\n",
    "def missing_values_table(df):\n",
    "        # Total missing values\n",
    "        mis_val = df.isnull().sum()\n",
    "        \n",
    "        # Percentage of missing values\n",
    "        mis_val_percent = 100 * df.isnull().sum() / len(df)\n",
    "        \n",
    "        # Make a table with the results\n",
    "        mis_val_table = pd.concat([mis_val, mis_val_percent], axis=1)\n",
    "        \n",
    "        # Rename the columns\n",
    "        mis_val_table_ren_columns = mis_val_table.rename(\n",
    "        columns = {0 : 'Missing Values', 1 : '% of Total Values'})\n",
    "        \n",
    "        # Sort the table by percentage of missing descending\n",
    "        mis_val_table_ren_columns = mis_val_table_ren_columns[\n",
    "            mis_val_table_ren_columns.iloc[:,1] != 0].sort_values(\n",
    "        '% of Total Values', ascending=False).round(1)\n",
    "        \n",
    "        # Print some summary information\n",
    "        print (\"Your selected dataframe has \" + str(df.shape[1]) + \" columns.\\n\"      \n",
    "            \"There are \" + str(mis_val_table_ren_columns.shape[0]) +\n",
    "              \" columns that have missing values.\")\n",
    "        \n",
    "        # Return the dataframe with missing information\n",
    "        return mis_val_table_ren_columns\n",
    "\n",
    "missing_values= missing_values_table(df)\n",
    "missing_values.style.background_gradient(cmap='Reds')"
   ]
  },
  {
   "cell_type": "code",
   "execution_count": null,
   "metadata": {},
   "outputs": [],
   "source": [
    "city_day = df.copy()"
   ]
  },
  {
   "cell_type": "code",
   "execution_count": null,
   "metadata": {},
   "outputs": [],
   "source": [
    "city_day['Particulate_Matter'] = city_day['pm2.5']+city_day['pm10']"
   ]
  },
  {
   "cell_type": "code",
   "execution_count": null,
   "metadata": {},
   "outputs": [],
   "source": [
    "pollutants = ['Ozone', 'CO', 'SO2', 'NO2', 'PM10', 'PM2.5']\n"
   ]
  },
  {
   "cell_type": "code",
   "execution_count": null,
   "metadata": {},
   "outputs": [],
   "source": [
    "import pandas as pd\n",
    "import matplotlib.pyplot as plt\n",
    "\n",
    "# 1. RELOAD THE DATA to ensure the column exists\n",
    "df = pd.read_csv(\"Telangana.csv\")\n",
    "\n",
    "df['From Date'] = pd.to_datetime(df['From Date'], format='%d-%m-%Y %H:%M')\n",
    "\n",
    "df.set_index('From Date', inplace=True)\n",
    "\n",
    "# 5. PLOTTING\n",
    "fig, axes = plt.subplots(len(pollutants), 1, figsize=(16, 20), sharex=True)\n",
    "\n",
    "for i, pollutant in enumerate(pollutants):\n",
    "    df[pollutant].plot(\n",
    "        ax=axes[i],\n",
    "        marker='.', \n",
    "        alpha=0.5, \n",
    "        linestyle='None',\n",
    "        title=f'{pollutant} Concentration Over Time'\n",
    "    )\n",
    "    \n",
    "    axes[i].set_xlabel('Date')\n",
    "    axes[i].set_ylabel('Concentration') \n",
    "\n",
    "plt.tight_layout()\n",
    "plt.show()"
   ]
  },
  {
   "cell_type": "code",
   "execution_count": null,
   "metadata": {},
   "outputs": [],
   "source": [
    "#source: https://stackoverflow.com/questions/38783027/jupyter-notebook-display-two-pandas-tables-side-by-side\n",
    "from IPython.display import display_html\n",
    "# def display_side_by_side(*args):\n",
    "#     html_str=''\n",
    "#     for df in args:\n",
    "#         html_str+=df.render()\n",
    "#     display_html(html_str.replace('table','table style=\"display:inline\"'),raw=True)\n",
    "    \n",
    "def display_side_by_side(*args):\n",
    "    \"\"\"\n",
    "    Displays Pandas Styler objects side-by-side by converting them to HTML.\n",
    "    \"\"\"\n",
    "    html_str = ''\n",
    "    \n",
    "    # *** CHANGE THIS LINE ***\n",
    "    for df in args:\n",
    "        html_str += df.to_html() # Use .to_html() instead of .render()\n",
    "        \n",
    "    # The replacement is to ensure the tables are displayed inline, not stacked.\n",
    "    display_html(html_str.replace('table','table style=\"display:inline\"'),raw=True)"
   ]
  },
  {
   "cell_type": "code",
   "execution_count": null,
   "metadata": {},
   "outputs": [],
   "source": [
    "def max_polluted_city(pollutant):\n",
    "    x1 = city_day[[pollutant, 'city']].groupby('city').mean().sort_values(by=pollutant, ascending=False).reset_index()\n",
    "    x1[pollutant] = round(x1[pollutant], 2)\n",
    "    return x1.head(10).style.background_gradient(cmap='OrRd')"
   ]
  },
  {
   "cell_type": "code",
   "execution_count": null,
   "metadata": {},
   "outputs": [],
   "source": [
    "# pollutants = ['Ozone', 'CO', 'SO2', 'NO2', 'PM10', 'PM2.5']\n",
    "\n",
    "pm2_5 = max_polluted_city('pm2.5')\n",
    "pm10 = max_polluted_city('pm10')\n",
    "no2 = max_polluted_city('no2')\n",
    "so2 = max_polluted_city('so2')\n",
    "co = max_polluted_city('co')\n",
    "ozone = max_polluted_city('ozone')\n",
    "\n",
    "\n",
    "display_side_by_side(pm2_5, pm10, no2, so2, co, ozone)"
   ]
  },
  {
   "cell_type": "code",
   "execution_count": null,
   "metadata": {},
   "outputs": [],
   "source": [
    "df1 = df.copy()\n",
    "df1['PM2.5']=df1['PM2.5'].fillna((df1['PM2.5'].median()))\n",
    "df1['PM10']=df1['PM10'].fillna((df1['PM10'].median()))\n",
    "df1['NO2']=df1['NO2'].fillna((df1['NO2'].median()))\n",
    "df1['CO']=df1['CO'].fillna((df1['CO'].median()))\n",
    "df1['SO2']=df1['SO2'].fillna((df1['SO2'].median()))\n",
    "df1['Ozone']=df1['Ozone'].fillna((df1['Ozone'].median()))\n"
   ]
  },
  {
   "cell_type": "code",
   "execution_count": null,
   "metadata": {},
   "outputs": [],
   "source": [
    "df1['City'].value_counts()"
   ]
  },
  {
   "cell_type": "code",
   "execution_count": null,
   "metadata": {},
   "outputs": [],
   "source": [
    "df1['Pollution content'] = df1['PM2.5']+df1['PM10']+df1['NO2']+df1['CO']+df1['SO2']+df1['Ozone']"
   ]
  },
  {
   "cell_type": "code",
   "execution_count": null,
   "metadata": {},
   "outputs": [],
   "source": [
    "import matplotlib.pyplot as plt\n",
    "\n",
    "def ploting(var):\n",
    "    # Correction: Replace the problematic iplot call with standard pandas.plot(),\n",
    "    # which uses matplotlib for stability.\n",
    "    ax = df1[var].plot(figsize=(12, 6), title=var)\n",
    "    \n",
    "    # Set labels using the standard matplotlib Axis methods\n",
    "    ax.set_xlabel('Date')\n",
    "    ax.set_ylabel(var)\n",
    "    plt.grid(True)\n",
    "    plt.show()\n",
    "\n",
    "ploting('Pollution content')"
   ]
  },
  {
   "cell_type": "code",
   "execution_count": null,
   "metadata": {},
   "outputs": [],
   "source": [
    "import pandas as pd\n",
    "import numpy as np\n",
    "\n",
    "# --- 1. Load Data (If not already loaded) ---\n",
    "# df = pd.read_csv('Telangana.csv') \n",
    "# Make sure your DataFrame 'df' is loaded before running the following code.\n",
    "# The code below renames columns to be consistent with the AQI logic if needed.\n",
    "\n",
    "# --- 2. Define NAQI Breakpoints ---\n",
    "# Breakpoints for NAQI (National Air Quality Index - India)\n",
    "# Units for all concentrations (C) are $\\mu\\text{g}/\\text{m}^3$ except CO which is $\\text{mg}/\\text{m}^3$.\n",
    "breakpoints = {\n",
    "    # (I_Lo, I_Hi, B_Lo, B_Hi) -> (AQI Low, AQI High, Conc Low, Conc High)\n",
    "    'PM2.5': [(0, 50, 0, 30), (51, 100, 31, 60), (101, 200, 61, 90), (201, 300, 91, 120), (301, 400, 121, 250), (401, 500, 251, 500)],\n",
    "    'PM10': [(0, 50, 0, 50), (51, 100, 51, 100), (101, 200, 101, 250), (201, 300, 251, 350), (301, 400, 351, 430), (401, 500, 431, 500)],\n",
    "    'NO2': [(0, 50, 0, 40), (51, 100, 41, 80), (101, 200, 81, 180), (201, 300, 181, 280), (301, 400, 281, 400), (401, 500, 401, 500)],\n",
    "    'Ozone': [(0, 50, 0, 50), (51, 100, 51, 100), (101, 200, 101, 168), (201, 300, 169, 208), (301, 400, 209, 748), (401, 500, 749, 1000)],\n",
    "    'CO': [(0, 50, 0, 1.0), (51, 100, 1.1, 2.0), (101, 200, 2.1, 10), (201, 300, 10.1, 17), (301, 400, 17.1, 34), (401, 500, 34.1, 50)], # mg/m^3\n",
    "    'SO2': [(0, 50, 0, 40), (51, 100, 41, 80), (101, 200, 81, 380), (201, 300, 381, 800), (301, 400, 801, 1600), (401, 500, 1601, 2000)]\n",
    "}\n",
    "\n",
    "# --- 3. Define Helper Functions ---\n",
    "\n",
    "def get_aqi_sub_index(C, pollutant):\n",
    "    \"\"\"Calculates the AQI sub-index for a single pollutant concentration C using linear interpolation.\"\"\"\n",
    "    if pd.isna(C) or C < 0:\n",
    "        return np.nan\n",
    "\n",
    "    for I_Lo, I_Hi, B_Lo, B_Hi in breakpoints[pollutant]:\n",
    "        if C >= B_Lo and C <= B_Hi:\n",
    "            # Linear interpolation formula: I = [(I_Hi - I_Lo) / (B_Hi - B_Lo)] * (C - B_Lo) + I_Lo\n",
    "            if B_Hi == B_Lo:\n",
    "                return I_Lo\n",
    "            else:\n",
    "                return round(((I_Hi - I_Lo) / (B_Hi - B_Lo)) * (C - B_Lo) + I_Lo)\n",
    "    \n",
    "    # If concentration is above the highest breakpoint, cap at 500\n",
    "    if C > breakpoints[pollutant][-1][3]:\n",
    "        return 500 \n",
    "    \n",
    "    return np.nan\n",
    "\n",
    "def calculate_aqi(row):\n",
    "    \"\"\"Calculates the overall AQI (maximum of all sub-indices).\"\"\"\n",
    "    # List of sub-indices for the available pollutants\n",
    "    sub_indices = [\n",
    "        get_aqi_sub_index(row['PM2.5'], 'PM2.5'),\n",
    "        get_aqi_sub_index(row['PM10'], 'PM10'),\n",
    "        get_aqi_sub_index(row['NO2'], 'NO2'),\n",
    "        get_aqi_sub_index(row['Ozone'], 'Ozone'),\n",
    "        get_aqi_sub_index(row['CO'], 'CO'),\n",
    "        get_aqi_sub_index(row['SO2'], 'SO2')\n",
    "    ]\n",
    "    \n",
    "    # The overall AQI is the maximum of the sub-indices (NAQI standard)\n",
    "    return np.nanmax(sub_indices) if any(~np.isnan(sub_indices)) else np.nan\n",
    "\n",
    "def get_aqi_category(aqi):\n",
    "    \"\"\"Assigns the AQI category based on the user's requested labels ('Good', 'Moderate', 'Severe').\"\"\"\n",
    "    if pd.isna(aqi):\n",
    "        return np.nan\n",
    "    elif aqi <= 50:\n",
    "        return 'Good'\n",
    "    elif aqi <= 200:\n",
    "        return 'Moderate' # Combines Satisfactory and Moderately Polluted\n",
    "    else:\n",
    "        return 'Severe' # Combines Poor, Very Poor, and Severe\n",
    "\n",
    "# --- 4. Apply Functions to DataFrame ---\n",
    "\n",
    "# Rename columns to match the breakpoints keys (assuming standard names in your CSV)\n",
    "# You can comment this out if your column names are already 'PM2.5', 'PM10', etc.\n",
    "df.rename(columns={'PM2.5': 'PM2.5', 'PM10': 'PM10', 'Ozone': 'Ozone',\n",
    "                   'CO': 'CO', 'SO2': 'SO2', 'NO2': 'NO2'}, inplace=True)\n",
    "\n",
    "# Calculate the AQI for each row\n",
    "df['AQI'] = df.apply(calculate_aqi, axis=1)\n",
    "\n",
    "# Assign the AQI category\n",
    "df['AQI Category'] = df['AQI'].apply(get_aqi_category)\n",
    "\n",
    "# --- 5. Display and Save (Optional) ---\n",
    "\n",
    "print(df[['PM2.5', 'PM10', 'AQI', 'AQI Category']].head())\n",
    "\n",
    "# If you want to save the updated DataFrame for your EDA report:\n",
    "df.to_csv('Telangana.csv', index=False)"
   ]
  },
  {
   "cell_type": "code",
   "execution_count": null,
   "metadata": {},
   "outputs": [],
   "source": [
    "import pandas_profiling"
   ]
  },
  {
   "cell_type": "code",
   "execution_count": null,
   "metadata": {},
   "outputs": [],
   "source": [
    "data = pd.read_csv(\"Telangana.csv\")"
   ]
  },
  {
   "cell_type": "code",
   "execution_count": null,
   "metadata": {},
   "outputs": [],
   "source": [
    "import pandas as pd\n",
    "from pandas_profiling import ProfileReport # Or ydata_profiling\n",
    "\n",
    "# --- 1. Load Data ---\n",
    "# Use the file you need (either the original or the one with AQI)\n",
    "data = pd.read_csv('Telangana.csv') \n",
    "\n",
    "# --- 2. CRITICAL FIX: Clean Column Names ---\n",
    "# This removes any hidden spaces or special characters around column names\n",
    "data.columns = data.columns.str.strip() \n",
    "\n",
    "try:\n",
    "    data['From Date'] = pd.to_datetime(data['From Date'], format='%d-%m-%Y %H:%M')\n",
    "    data.set_index('From Date', inplace=True)\n",
    "except KeyError:\n",
    "    print(\"Column 'From Date' not found after stripping whitespace. Check column names.\")\n",
    "    \n",
    "profile = data.profile_report(title=\"EDA with AQI\", explorative=True)\n",
    "profile.to_file(output_file=\"EDA.html\")\n",
    "\n",
    "print(\"The EDA.html report is being regenerated with clean column names and time series plots.\")"
   ]
  },
  {
   "cell_type": "code",
   "execution_count": null,
   "metadata": {},
   "outputs": [],
   "source": [
    "profile = data.profile_report(title=\"EDA\", explorative = True)\n",
    "profile.to_file(output_file=\"EDA.html\")"
   ]
  },
  {
   "cell_type": "code",
   "execution_count": null,
   "metadata": {},
   "outputs": [],
   "source": [
    "print(city_day.columns.tolist())"
   ]
  },
  {
   "cell_type": "code",
   "execution_count": 44,
   "metadata": {},
   "outputs": [
    {
     "name": "stdout",
     "output_type": "stream",
     "text": [
      "               Model         MSE       RMSE       MAE        R2\n",
      "0  Linear Regression  145.681679  12.069867  5.945794  0.844514\n",
      "1      Random Forest   10.191674   3.192440  0.669360  0.989122\n",
      "2            XGBoost   13.017426   3.607967  1.258182  0.986107\n"
     ]
    },
    {
     "data": {
      "image/png": "[encoded data removed]",
      "text/plain": [
       "<Figure size 1200x600 with 1 Axes>"
      ]
     },
     "metadata": {},
     "output_type": "display_data"
    },
    {
     "data": {
      "image/png": "[encoded data removed]",
      "text/plain": [
       "<Figure size 800x500 with 1 Axes>"
      ]
     },
     "metadata": {},
     "output_type": "display_data"
    },
    {
     "name": "stdout",
     "output_type": "stream",
     "text": [
      "\n",
      " Best Model: Random Forest\n",
      "R²: 0.9891, RMSE: 3.19, MAE: 0.67\n",
      "\n",
      "Explanation:\n",
      "\n",
      "1. Linear Regression:\n",
      "   - Simple, interpretable, but may underfit complex relationships.\n",
      "   - Usually has higher RMSE/MAE if data is non-linear.\n",
      "\n",
      "2. Random Forest:\n",
      "   - Captures non-linear relationships.\n",
      "   - Handles feature interactions automatically.\n",
      "   - Usually performs very well on tabular data.\n",
      "   - Low RMSE and high R² indicate excellent fit.\n",
      "\n",
      "3. XGBoost:\n",
      "   - Gradient boosting algorithm, strong for structured/tabular data.\n",
      "   - Often slightly better than Random Forest if hyperparameters tuned.\n",
      "   - In this case, if RMSE < Random Forest and R² higher, it is best.\n",
      "   \n",
      "Recommendation:\n",
      "- Pick the model with **highest R²** and **lowest RMSE/MAE**.\n",
      "- For Telangana AQI prediction, it is likely **Random Forest or XGBoost**, as they can model complex patterns better than Linear Regression.\n",
      "\n"
     ]
    }
   ],
   "source": [
    "import pandas as pd\n",
    "import numpy as np\n",
    "from sklearn.model_selection import train_test_split\n",
    "from sklearn.preprocessing import StandardScaler\n",
    "from sklearn.linear_model import LinearRegression\n",
    "from sklearn.ensemble import RandomForestRegressor\n",
    "from sklearn.metrics import mean_squared_error, mean_absolute_error, r2_score\n",
    "import xgboost as xgb\n",
    "import matplotlib.pyplot as plt\n",
    "import seaborn as sns\n",
    "\n",
    "# ---------------------------\n",
    "# 1. Load Dataset\n",
    "# ---------------------------\n",
    "df = pd.read_csv('Telangana.csv')\n",
    "df['To Date'] = pd.to_datetime(df['To Date'], format='%d-%m-%Y %H:%M')\n",
    "df.set_index('To Date', inplace=True)\n",
    "\n",
    "# ---------------------------\n",
    "# 2. Prepare Features & Target\n",
    "# ---------------------------\n",
    "features = ['Ozone', 'CO', 'SO2', 'NO2', 'PM10', 'PM2.5']\n",
    "target = 'AQI'\n",
    "\n",
    "X = df[features].fillna(df[features].mean())  # Fill missing values with mean\n",
    "y = df[target].fillna(df[target].mean())\n",
    "\n",
    "# ---------------------------\n",
    "# 3. Train-Test Split\n",
    "# ---------------------------\n",
    "X_train, X_test, y_train, y_test = train_test_split(\n",
    "    X, y, test_size=0.2, random_state=42\n",
    ")\n",
    "\n",
    "# ---------------------------\n",
    "# 4. Feature Scaling\n",
    "# ---------------------------\n",
    "scaler = StandardScaler()\n",
    "X_train_scaled = scaler.fit_transform(X_train)\n",
    "X_test_scaled = scaler.transform(X_test)\n",
    "\n",
    "# ---------------------------\n",
    "# 5. Initialize Models\n",
    "# ---------------------------\n",
    "models = {\n",
    "    \"Linear Regression\": LinearRegression(),\n",
    "    \"Random Forest\": RandomForestRegressor(n_estimators=100, random_state=42),\n",
    "    \"XGBoost\": xgb.XGBRegressor(n_estimators=100, learning_rate=0.1, random_state=42)\n",
    "}\n",
    "\n",
    "# ---------------------------\n",
    "# 6. Train, Predict & Evaluate\n",
    "# ---------------------------\n",
    "results = []\n",
    "\n",
    "for name, model in models.items():\n",
    "    model.fit(X_train_scaled, y_train)\n",
    "    y_pred = model.predict(X_test_scaled)\n",
    "    \n",
    "    mse = mean_squared_error(y_test, y_pred)\n",
    "    rmse = np.sqrt(mse)\n",
    "    mae = mean_absolute_error(y_test, y_pred)\n",
    "    r2 = r2_score(y_test, y_pred)\n",
    "    \n",
    "    results.append({\n",
    "        \"Model\": name,\n",
    "        \"MSE\": mse,\n",
    "        \"RMSE\": rmse,\n",
    "        \"MAE\": mae,\n",
    "        \"R2\": r2\n",
    "    })\n",
    "    \n",
    "results_df = pd.DataFrame(results)\n",
    "print(results_df)\n",
    "\n",
    "# ---------------------------\n",
    "# 7. Visual Comparison\n",
    "# ---------------------------\n",
    "plt.figure(figsize=(12,6))\n",
    "sns.barplot(data=results_df.melt(id_vars='Model', value_vars=['RMSE', 'MAE']),\n",
    "            x='Model', y='value', hue='variable')\n",
    "plt.title('RMSE & MAE Comparison Across Models')\n",
    "plt.ylabel('Error')\n",
    "plt.show()\n",
    "\n",
    "plt.figure(figsize=(8,5))\n",
    "sns.barplot(data=results_df, x='Model', y='R2')\n",
    "plt.title('R² Comparison Across Models')\n",
    "plt.ylim(0,1)\n",
    "plt.show()\n",
    "\n",
    "# ---------------------------\n",
    "# 8. Model Recommendation\n",
    "# ---------------------------\n",
    "best_model = results_df.sort_values(by='R2', ascending=False).iloc[0]\n",
    "print(f\"\\n Best Model: {best_model['Model']}\")\n",
    "print(f\"R²: {best_model['R2']:.4f}, RMSE: {best_model['RMSE']:.2f}, MAE: {best_model['MAE']:.2f}\")\n",
    "\n",
    "print(\"\"\"\n",
    "Explanation:\n",
    "\n",
    "1. Linear Regression:\n",
    "   - Simple, interpretable, but may underfit complex relationships.\n",
    "   - Usually has higher RMSE/MAE if data is non-linear.\n",
    "\n",
    "2. Random Forest:\n",
    "   - Captures non-linear relationships.\n",
    "   - Handles feature interactions automatically.\n",
    "   - Usually performs very well on tabular data.\n",
    "   - Low RMSE and high R² indicate excellent fit.\n",
    "\n",
    "3. XGBoost:\n",
    "   - Gradient boosting algorithm, strong for structured/tabular data.\n",
    "   - Often slightly better than Random Forest if hyperparameters tuned.\n",
    "   - In this case, if RMSE < Random Forest and R² higher, it is best.\n",
    "   \n",
    "Recommendation:\n",
    "- Pick the model with **highest R²** and **lowest RMSE/MAE**.\n",
    "- For Telangana AQI prediction, it is likely **Random Forest or XGBoost**, as they can model complex patterns better than Linear Regression.\n",
    "\"\"\")\n"
   ]
  },
  {
   "cell_type": "code",
   "execution_count": null,
   "metadata": {},
   "outputs": [],
   "source": []
  }
 ],
 "metadata": {
  "kernelspec": {
   "display_name": "Python 3",
   "language": "python",
   "name": "python3"
  },
  "language_info": {
   "codemirror_mode": {
    "name": "ipython",
    "version": 3
   },
   "file_extension": ".py",
   "mimetype": "text/x-python",
   "name": "python",
   "nbconvert_exporter": "python",
   "pygments_lexer": "ipython3",
   "version": "3.10.12"
  }
 },
 "nbformat": 4,
 "nbformat_minor": 2
}
